{
  "nbformat": 4,
  "nbformat_minor": 0,
  "metadata": {
    "colab": {
      "provenance": []
    },
    "kernelspec": {
      "name": "python3",
      "display_name": "Python 3"
    },
    "language_info": {
      "name": "python"
    }
  },
  "cells": [
    {
      "cell_type": "code",
      "execution_count": 34,
      "metadata": {
        "id": "7b92sqzvdKFJ"
      },
      "outputs": [],
      "source": [
        "# 1. Who developed python programming  language ?\n",
        "#  Ans.  Python was created by Guido van Rossum."
      ]
    },
    {
      "cell_type": "code",
      "source": [
        "# 2. Which type of programming does a Python support ?\n",
        "# Ans. It supports object-oriented programming as well as procedural-oriented programming."
      ],
      "metadata": {
        "id": "Ye-mOOSfRky9"
      },
      "execution_count": 35,
      "outputs": []
    },
    {
      "cell_type": "code",
      "source": [
        "# 3. Is python case sensitive when dealing with identifiers ?\n",
        "# Ans. Yes, Python is a case−sensitive programming language. Case is always significant while dealing with identifiers in python."
      ],
      "metadata": {
        "id": "I8xeG4raRqt2"
      },
      "execution_count": 36,
      "outputs": []
    },
    {
      "cell_type": "code",
      "source": [
        "# 4. What is the correct extension of python file ?\n",
        "# Ans. The file extensions for Python are-\n",
        "\n",
        "# .pyz\n",
        "\n",
        "# .pyd\n",
        "\n",
        "# .pyw\n",
        "\n",
        "# .pyo\n",
        "\n",
        "# .pyc\n",
        "\n",
        "# .pyi\n",
        "\n",
        "# .py"
      ],
      "metadata": {
        "id": "zNww-FMiRvLu"
      },
      "execution_count": 37,
      "outputs": []
    },
    {
      "cell_type": "code",
      "source": [
        "# 5.  Is python code compiled or interpreted ?\n",
        "# Ans.  Python is an interpreted language, which means the source code of a Python program is converted into bytecode that is then executed by the Python virtual machine."
      ],
      "metadata": {
        "id": "G8f3XZNCRzNu"
      },
      "execution_count": 38,
      "outputs": []
    },
    {
      "cell_type": "code",
      "source": [
        "# 6. Name of few blocks of code used to define in Python language ?\n",
        "# Ans.\n",
        "\n",
        "name = 'Alex'\n",
        "\n",
        "if name == 'Alex':\n",
        "    print('Correct Name!!')\n",
        "else:\n",
        "\tprint('InCorrect Name:(')\n",
        "print('HI')"
      ],
      "metadata": {
        "colab": {
          "base_uri": "https://localhost:8080/"
        },
        "id": "Xfu5i0AvR3pN",
        "outputId": "33982e9b-a5c6-4d36-c324-052d4611fe3f"
      },
      "execution_count": 39,
      "outputs": [
        {
          "output_type": "stream",
          "name": "stdout",
          "text": [
            "Correct Name!!\n",
            "HI\n"
          ]
        }
      ]
    },
    {
      "cell_type": "code",
      "source": [
        "# 7. State a character used to give a single line comments in Python ?\n",
        "\n",
        "# Ans. A single-line comment starts and ends in the same line. We use the # symbol to write a single-line comment."
      ],
      "metadata": {
        "id": "_rJ07dTHk-8y"
      },
      "execution_count": 40,
      "outputs": []
    },
    {
      "cell_type": "code",
      "source": [
        "# 8. Mention functions which can help us to find the version of python that we are currently working on\n",
        "# Ans. The function sys.version can help us to find the version of python that we are currently working on.\n"
      ],
      "metadata": {
        "id": "9-nm0mvI_U0q"
      },
      "execution_count": 41,
      "outputs": []
    },
    {
      "cell_type": "code",
      "source": [
        "# 9. Python supports the creation of anonymous functions at runtime using a construct method called ?\n",
        "# Ans. lambda"
      ],
      "metadata": {
        "id": "cqumL2C9_xEh"
      },
      "execution_count": 42,
      "outputs": []
    },
    {
      "cell_type": "code",
      "source": [
        "# 10.  What does PIP stand for python ?\n",
        "# Ans. PIP stands for Preferred Installer Program"
      ],
      "metadata": {
        "id": "tu6ygNFpBbKm"
      },
      "execution_count": 43,
      "outputs": []
    },
    {
      "cell_type": "code",
      "source": [
        "#  11 . Mention of few built in function in Python ?\n",
        "# Ans. built-in functions in Python are len(), str(), int(), float(), range(), max(), min(), sum(), open(), sorted(), and type()."
      ],
      "metadata": {
        "id": "_wobANi1C6Wp"
      },
      "execution_count": 44,
      "outputs": []
    },
    {
      "cell_type": "code",
      "source": [
        "# 12. What is the maximum possible length of an identifier in Python ?\n",
        "# Ans. An identifier can have a maximum length of 79 characters in Python."
      ],
      "metadata": {
        "id": "dr0SzlrJDhbq"
      },
      "execution_count": 45,
      "outputs": []
    },
    {
      "cell_type": "code",
      "source": [
        "# 13. What are the benefits of using python ?\n",
        "\n",
        "# Ans.\n",
        "# • It is easy to learn and use, and it has an extensive library.\n",
        "# • Python increases productivity.\n",
        "# • It is very flexible.\n",
        "# • It has a very supportive community."
      ],
      "metadata": {
        "id": "le1QuWRMD_3m"
      },
      "execution_count": 46,
      "outputs": []
    },
    {
      "cell_type": "code",
      "source": [
        "# How is memory managed in Python ?\n",
        "\n",
        "# Ans.\n",
        "#  Garbage Collector :-\n",
        "#  Garbage Collection is how the memory is freed when not use and how it can be made available for other objects.\n",
        "#  Python deletes the objects that are no longer in use. This is what we call Garbage Collection.\n",
        "#  The garbage collector initiates its execution with the program and is activated if the reference count drops to zero.\n",
        "#  Python's garbage collector runs during program execution and is triggered when an object's reference count reaches zero.\n",
        "#  An object's reference count changes as the number of aliases that point to it changes.\n",
        "#  memory is allocated in Python −\n",
        "#  Static Memory Allocation – Stack\n",
        "#  In static memory allocation, the memory is allocated at the compile time. The Stack data structure stores the static memory.\n",
        "#   example where the memory allocates on stack −\n",
        "\n",
        "#  static int x=2;\n",
        "\n",
        "#  Dynamic Memory Allocation – Heap\n",
        "#  In dynamic memory allocation, the memory is allocated at the run time. The Heap stores the dynamic memory. It frees up the memory space if the object is no longer needed.\n",
        "\n",
        "#  A quick example where the memory allocates on heap for 2 integers −\n",
        "\n",
        "x = [0]*2\n",
        "#  As we discussed above, the garbage collector initiates its execution with the program and is activated if the reference count drops to zero.\n",
        "\n",
        "#  Reference Count:-\n",
        "#  The Python garbage collector initiates its execution with the program and is activated if the reference count drops to zero. Let us see when the reference count increase or decreases\n",
        "\n",
        "#  The reference count value increase when-\n",
        "\n",
        "#  When a new name is assigned or in a dictionary or tuple, the reference count increases its value.\n",
        "\n",
        "#  If we reassign the reference to an object, the reference counts decrease its value.\n",
        "\n",
        "#  The reference count value decreases when −\n",
        "\n",
        "#  The value decreases when the object's reference goes out of scope.\n",
        "#  The value decreases when an object is deleted.\n",
        "#  Therefore, reference counting is actually how many times other objects reference an object. With that, The de-allocation occurs when the reference count drops to zero."
      ],
      "metadata": {
        "id": "uSUdpO8OFIUY"
      },
      "execution_count": 47,
      "outputs": []
    },
    {
      "cell_type": "code",
      "source": [
        "# 15. How to install Python on Windows and set path variables ?\n",
        "\n",
        "# To download Python on your system, you can use the following steps.\n",
        "\n",
        "# Visit the official download page for Python on the Windows operating system.\n",
        "# Locate a reliable version of Python 3, preferably version 3.10.11, which was used in testing this tutorial.\n",
        "# Choose the correct link for your device from the options provided: either Windows installer (64-bit) or Windows installer (32-bit) and proceed to download the executable file.\n",
        "\n",
        "# Running the Executable Installer :-\n",
        "# Once you have downloaded the installer, open the .exe file, such as python-3.10.11-amd64.exe, by double-clicking it to launch the Python installer.\n",
        "# Choose the option to Install the launcher for all users by checking the corresponding checkbox, so that all users of the computer can access the Python launcher application.\n",
        "# Enable users to run Python from the command line by checking the Add python.exe to PATH checkbox.\n",
        "\n",
        "#  Setup Progress:-\n",
        "#  After Clicking the Install Now Button the setup will start installing Python on your Windows system. You will see a window like this.\n",
        "\n",
        "# Final Installer Window :-\n",
        "# After completing the setup. Python will be installed on your Windows system. You will see a successful message.\n",
        "\n",
        "# Verify the Installation\n",
        "# Close the window after successful installation.\n",
        "# You can check if the installation of Python was successful by using either the command line or the Integrated Development Environment (IDLE), which you may have installed.\n",
        "\n",
        "# To access the command line, click on the Start menu and type “cmd” in the search bar. Then click on Command Prompt.\n",
        "# python --version\n",
        "\n",
        "#   How to add Python to PATH ?\n",
        "\n",
        "#   Step 1. Locate your Python installation directory.\n",
        "\n",
        "#   Typically, Python is installed in the C:\\Users\\{Your Username}\\AppData\\Local\\Programs\\Python\\Python{version} folder, where {version} represents your installed Python version (e.g., Python39 for Python 3.9).\n",
        "\n",
        "#  If you go to the above directory, you should be able to locate the Python executable and run it to start the Python REPL.\n",
        "\n",
        "#  Step 2. Copy the path to the Python installation directory, as well as the \\Scripts subdirectory.\n",
        "\n",
        "#  For example, if Python is installed in C:\\Users\\{Your Username}\\AppData\\Local\\Programs\\Python\\Python39, copy the following paths:\n",
        "\n",
        "#  C:\\Users\\{Username}\\AppData\\Local\\Programs\\Python\\Python39\n",
        "\n",
        "#   C:\\Users\\{Username}\\AppData\\Local\\Programs\\Python\\Python39\\Scripts\n",
        "\n",
        "#  Step 3. Right-click on “This PC” (or “My Computer” in older versions of Windows) and select “Properties”.\n",
        "\n",
        "#   Step 4. In the System Properties window, click on “Advanced system settings” on the left side.\n",
        "\n",
        "#  Alternately, instead of steps 3 and 4, you can search for “Environment Variables” in the Start menu and select “Edit the system environment variables”\n",
        "\n",
        "#  Step 5. In the System Properties dialog, go to the “Advanced” tab and click on the “Environment Variables” button in the bottom.\n",
        "\n",
        "#  Step 6. In the Environment Variables dialog, find the “Path” variable under the “System variables” section, and click on the “Edit” button.\n",
        "\n",
        "#  Step 7. In the “Edit environment variable” dialog, click on the “New” button, and paste the Python installation directory path that you copied in step 2.\n",
        "#          Repeat this step to add the \\Scripts subdirectory path as well.\n",
        "\n",
        "#   Step 8. Click “OK” to close the “Edit environment variable” dialog, “OK” again to close the “Environment Variables” dialog, and one last “OK” to close the “System Properties” dialog.\n",
        "\n",
        "#  Step 9. Restart any open command prompt windows, or open a new one. Now, you should be able to run Python commands from any directory within the command prompt."
      ],
      "metadata": {
        "id": "bOUxNR8nGHtB"
      },
      "execution_count": 48,
      "outputs": []
    },
    {
      "cell_type": "code",
      "source": [
        "# 16.  Is indentation required in Python  ?\n",
        "# Ans. The first line of python code cannot have an indentation. Indentation is mandatory in python to define the blocks of statements."
      ],
      "metadata": {
        "id": "6iSAdkwTNRY6"
      },
      "execution_count": 49,
      "outputs": []
    }
  ]
}